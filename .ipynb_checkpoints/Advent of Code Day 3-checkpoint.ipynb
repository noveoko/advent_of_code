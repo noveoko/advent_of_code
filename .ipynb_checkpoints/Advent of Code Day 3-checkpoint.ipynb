{
 "cells": [
  {
   "cell_type": "code",
   "execution_count": 1,
   "metadata": {
    "collapsed": true
   },
   "outputs": [],
   "source": [
    "start, end = 1, 10\n",
    "\n",
    "numbers = range(start, end+1)\n",
    "\n",
    "matrix = [[]]"
   ]
  },
  {
   "cell_type": "code",
   "execution_count": 2,
   "metadata": {},
   "outputs": [
    {
     "name": "stdout",
     "output_type": "stream",
     "text": [
      "Error A\n",
      "Error A\n",
      "Error A\n",
      "Error A\n",
      "Error A\n",
      "Error A\n",
      "Error A\n",
      "[[0, 3], [1, 2]]\n"
     ]
    }
   ],
   "source": [
    "try:\n",
    "    if matrix:\n",
    "        for number in numbers:\n",
    "            if len(matrix) == 1:\n",
    "                if not matrix[0]:\n",
    "                    #add the current number to the first list in the matrix\n",
    "                    matrix[0] = [number]\n",
    "                elif len(matrix[0]) == 1:\n",
    "                    #add the current number to the end of the first list in the matrix\n",
    "                    matrix[0].append(number)\n",
    "                elif len(matrix[0]) == 2:\n",
    "                    #if the initial row exists move 'up'\n",
    "                    matrix.insert(-1, [0,number])\n",
    "                elif len(ma)\n",
    "                    pass\n",
    "            #if matrix contains a single empty list\n",
    "            #if matrix contains a single list with a single number\n",
    "            #if matrix contains a single list with multiple numbers\n",
    "            #if matrix contains more than a single list\n",
    "            else:\n",
    "                print('Error A')\n",
    "    else:\n",
    "        print('You must add at least 1 list to the matrix')\n",
    "except NameError:\n",
    "    print('You must initiate a matrix')\n",
    "    \n",
    "print(matrix)"
   ]
  },
  {
   "cell_type": "code",
   "execution_count": null,
   "metadata": {
    "collapsed": true
   },
   "outputs": [],
   "source": []
  },
  {
   "cell_type": "code",
   "execution_count": null,
   "metadata": {
    "collapsed": true
   },
   "outputs": [],
   "source": [
    "#hypothesis -- a square shape always grows from the top-left corner\n",
    "# <=[4,3]\n",
    "#   [1,2] IF len(current_row) == len(row_below):\n",
    "              #add number to 0th position in current row\n",
    "\n",
    "# [5,4,3]\n",
    "# [6,1,2]\n",
    "# [7,8,9]=> IF len(current_row) == len(row_above):\n",
    "            #add number to -1th position in current row\n",
    "            #while current_row != top_row:\n",
    "            #move to row_above_current_row and add number to -1th position in current row\n",
    "\n",
    "# [5,4,3]\n",
    "# [6,1,2]\n",
    "# [7]=> #continue appending consecutive numbers until the current_row_len is len(row_above)+1\n",
    "\n",
    "#    \\/ <=[4,3]\n",
    "#    \\/ [6,1,2]\n",
    "#    \\/ [7,8,9]=>\n",
    "\n",
    "#direction is given by placement of current cell relative to the list...\n",
    "#if position is 0 movement is left -- until row is one longer than the one below\n",
    "#if position is -1 movement is right -- until row is one longer than the one below"
   ]
  }
 ],
 "metadata": {
  "kernelspec": {
   "display_name": "Python 3",
   "language": "python",
   "name": "python3"
  },
  "language_info": {
   "codemirror_mode": {
    "name": "ipython",
    "version": 3
   },
   "file_extension": ".py",
   "mimetype": "text/x-python",
   "name": "python",
   "nbconvert_exporter": "python",
   "pygments_lexer": "ipython3",
   "version": "3.6.3"
  }
 },
 "nbformat": 4,
 "nbformat_minor": 2
}
